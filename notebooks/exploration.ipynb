{
 "cells": [
  {
   "cell_type": "markdown",
   "metadata": {
    "_cell_guid": "b1076dfc-b9ad-4769-8c92-a6c4dae69d19",
    "_uuid": "8f2839f25d086af736a60e9eeb907d3b93b6e0e5",
    "execution": {
     "iopub.execute_input": "2022-01-19T13:49:18.142304Z",
     "iopub.status.busy": "2022-01-19T13:49:18.141992Z",
     "iopub.status.idle": "2022-01-19T13:49:18.170822Z",
     "shell.execute_reply": "2022-01-19T13:49:18.169917Z",
     "shell.execute_reply.started": "2022-01-19T13:49:18.142218Z"
    },
    "pycharm": {
     "name": "#%% md\n"
    }
   },
   "source": [
    "# Song Popularity EDA"
   ]
  },
  {
   "cell_type": "markdown",
   "metadata": {
    "pycharm": {
     "name": "#%% md\n"
    }
   },
   "source": [
    "## 1. Introduction\n",
    "\n",
    "Welcome to a new and exciting Kaggle community competition!\n",
    "\n",
    "This competition is about analyzing the popularity of songs based on a set of features.\n",
    "\n",
    "It is a great opportunity to get a better understanding of the data and to learn how to use the data to\n",
    " make predictions. Hence it is targeted at beginners.\n",
    "\n",
    "This is a classification challenge, with the evaluation metric being the [AUC](https://en.wikipedia.org/wiki/Receiver_operating_characteristic).\n",
    "\n",
    "The data consistsof the standard Kaggle `train.csv` and `test.csv`, along with `sample_submission.csv`, to show how\n",
    "the structure of the submission file should be.\n",
    "\n",
    "This notebook is a python representation of the R EDA notebook by Heads Or Tails from this live stream [here](https://www.youtube.com/watch?v=JXF-7rCcR1c)"
   ]
  },
  {
   "cell_type": "markdown",
   "metadata": {},
   "source": [
    "## 2. Preparations\n",
    "\n",
    "We load a range of libraries, set the working directory and load the data."
   ]
  },
  {
   "cell_type": "code",
   "execution_count": 2,
   "metadata": {
    "pycharm": {
     "name": "#%%\n"
    }
   },
   "outputs": [],
   "source": [
    "from warnings import filterwarnings\n",
    "from pathlib import Path\n",
    "\n",
    "import matplotlib.pyplot as plt\n",
    "import pandas as pd\n",
    "import seaborn as sns"
   ]
  },
  {
   "cell_type": "code",
   "execution_count": 3,
   "metadata": {
    "pycharm": {
     "name": "#%%\n"
    }
   },
   "outputs": [],
   "source": [
    "filterwarnings('ignore')\n",
    "plt.style.use('seaborn')\n",
    "%matplotlib inline"
   ]
  },
  {
   "cell_type": "code",
   "execution_count": 4,
   "metadata": {
    "pycharm": {
     "name": "#%%\n"
    }
   },
   "outputs": [],
   "source": [
    "if Path('../kaggle').exists():\n",
    "    path: str = '../kaggle/input/song-popularity-prediction'\n",
    "else:\n",
    "    path: str = '../input/'"
   ]
  },
  {
   "cell_type": "code",
   "execution_count": 5,
   "metadata": {
    "pycharm": {
     "name": "#%%\n"
    }
   },
   "outputs": [],
   "source": [
    "train: pd.DataFrame = pd.read_csv(path + '/train.csv', index_col='id')\n",
    "test: pd.DataFrame = pd.read_csv(path + '/test.csv')\n",
    "sample_submission: pd.DataFrame = pd.read_csv(path + '/sample_submission.csv')"
   ]
  },
  {
   "cell_type": "markdown",
   "metadata": {
    "pycharm": {
     "name": "#%% md\n"
    }
   },
   "source": [
    "## 3. Overview: structure and data content\n",
    "\n",
    "The first thing you want to do is to look at your actual data in its raw form. This will tell you about the types of\n",
    "features you will be dealing with (numerical, categorical, string, etc.), as well as already reveal some characteristics\n",
    " of the dataset. This includes checking for missing values.\n",
    "\n",
    "Generally, we don't want to look at the test data any more than strictly necessary. The test dataset is intended to\n",
    "serve as our final model validation, and should only include data that the model has never seen before. Since our\n",
    "brain is a part of the modelling process as well (os lease it should be), we want to avoid picking up any signal\n",
    "in the test data that could consciously or unconsciously influence our decision. Thus, this EDA will almost entirely\n",
    "focus on the `train.csv` data."
   ]
  },
  {
   "cell_type": "markdown",
   "metadata": {},
   "source": [
    "### 3.1 A look at the data"
   ]
  },
  {
   "cell_type": "code",
   "execution_count": 6,
   "metadata": {
    "pycharm": {
     "name": "#%%\n"
    }
   },
   "outputs": [
    {
     "data": {
      "text/plain": "    song_duration_ms  acousticness  danceability    energy  instrumentalness  \\\nid                                                                             \n0           212990.0      0.642286      0.856520  0.707073          0.002001   \n1                NaN      0.054866      0.733289  0.835545          0.000996   \n2           193213.0           NaN      0.188387  0.783524         -0.002694   \n3           249893.0      0.488660      0.585234  0.552685          0.000608   \n4           165969.0      0.493017           NaN  0.740982          0.002033   \n\n     key  liveness  loudness  audio_mode  speechiness       tempo  \\\nid                                                                  \n0   10.0       NaN -5.619088           0     0.082570  158.386236   \n1    8.0  0.436428 -5.236965           1     0.127358  102.752988   \n2    5.0  0.170499 -4.951759           0     0.052282  178.685791   \n3    0.0  0.094805 -7.893694           0     0.035618  128.715630   \n4   10.0  0.094891 -2.684095           0     0.050746  121.928157   \n\n    time_signature  audio_valence  song_popularity  \nid                                                  \n0                4       0.734642                0  \n1                3       0.711531                1  \n2                3       0.425536                0  \n3                3       0.453597                0  \n4                4       0.741311                0  ",
      "text/html": "<div>\n<style scoped>\n    .dataframe tbody tr th:only-of-type {\n        vertical-align: middle;\n    }\n\n    .dataframe tbody tr th {\n        vertical-align: top;\n    }\n\n    .dataframe thead th {\n        text-align: right;\n    }\n</style>\n<table border=\"1\" class=\"dataframe\">\n  <thead>\n    <tr style=\"text-align: right;\">\n      <th></th>\n      <th>song_duration_ms</th>\n      <th>acousticness</th>\n      <th>danceability</th>\n      <th>energy</th>\n      <th>instrumentalness</th>\n      <th>key</th>\n      <th>liveness</th>\n      <th>loudness</th>\n      <th>audio_mode</th>\n      <th>speechiness</th>\n      <th>tempo</th>\n      <th>time_signature</th>\n      <th>audio_valence</th>\n      <th>song_popularity</th>\n    </tr>\n    <tr>\n      <th>id</th>\n      <th></th>\n      <th></th>\n      <th></th>\n      <th></th>\n      <th></th>\n      <th></th>\n      <th></th>\n      <th></th>\n      <th></th>\n      <th></th>\n      <th></th>\n      <th></th>\n      <th></th>\n      <th></th>\n    </tr>\n  </thead>\n  <tbody>\n    <tr>\n      <th>0</th>\n      <td>212990.0</td>\n      <td>0.642286</td>\n      <td>0.856520</td>\n      <td>0.707073</td>\n      <td>0.002001</td>\n      <td>10.0</td>\n      <td>NaN</td>\n      <td>-5.619088</td>\n      <td>0</td>\n      <td>0.082570</td>\n      <td>158.386236</td>\n      <td>4</td>\n      <td>0.734642</td>\n      <td>0</td>\n    </tr>\n    <tr>\n      <th>1</th>\n      <td>NaN</td>\n      <td>0.054866</td>\n      <td>0.733289</td>\n      <td>0.835545</td>\n      <td>0.000996</td>\n      <td>8.0</td>\n      <td>0.436428</td>\n      <td>-5.236965</td>\n      <td>1</td>\n      <td>0.127358</td>\n      <td>102.752988</td>\n      <td>3</td>\n      <td>0.711531</td>\n      <td>1</td>\n    </tr>\n    <tr>\n      <th>2</th>\n      <td>193213.0</td>\n      <td>NaN</td>\n      <td>0.188387</td>\n      <td>0.783524</td>\n      <td>-0.002694</td>\n      <td>5.0</td>\n      <td>0.170499</td>\n      <td>-4.951759</td>\n      <td>0</td>\n      <td>0.052282</td>\n      <td>178.685791</td>\n      <td>3</td>\n      <td>0.425536</td>\n      <td>0</td>\n    </tr>\n    <tr>\n      <th>3</th>\n      <td>249893.0</td>\n      <td>0.488660</td>\n      <td>0.585234</td>\n      <td>0.552685</td>\n      <td>0.000608</td>\n      <td>0.0</td>\n      <td>0.094805</td>\n      <td>-7.893694</td>\n      <td>0</td>\n      <td>0.035618</td>\n      <td>128.715630</td>\n      <td>3</td>\n      <td>0.453597</td>\n      <td>0</td>\n    </tr>\n    <tr>\n      <th>4</th>\n      <td>165969.0</td>\n      <td>0.493017</td>\n      <td>NaN</td>\n      <td>0.740982</td>\n      <td>0.002033</td>\n      <td>10.0</td>\n      <td>0.094891</td>\n      <td>-2.684095</td>\n      <td>0</td>\n      <td>0.050746</td>\n      <td>121.928157</td>\n      <td>4</td>\n      <td>0.741311</td>\n      <td>0</td>\n    </tr>\n  </tbody>\n</table>\n</div>"
     },
     "execution_count": 6,
     "metadata": {},
     "output_type": "execute_result"
    }
   ],
   "source": [
    "train.head()"
   ]
  },
  {
   "cell_type": "code",
   "execution_count": 7,
   "metadata": {
    "pycharm": {
     "name": "#%%\n"
    }
   },
   "outputs": [
    {
     "name": "stdout",
     "output_type": "stream",
     "text": [
      "<class 'pandas.core.frame.DataFrame'>\n",
      "Int64Index: 40000 entries, 0 to 39999\n",
      "Data columns (total 14 columns):\n",
      " #   Column            Non-Null Count  Dtype  \n",
      "---  ------            --------------  -----  \n",
      " 0   song_duration_ms  35899 non-null  float64\n",
      " 1   acousticness      36008 non-null  float64\n",
      " 2   danceability      35974 non-null  float64\n",
      " 3   energy            36025 non-null  float64\n",
      " 4   instrumentalness  36015 non-null  float64\n",
      " 5   key               35935 non-null  float64\n",
      " 6   liveness          35914 non-null  float64\n",
      " 7   loudness          36043 non-null  float64\n",
      " 8   audio_mode        40000 non-null  int64  \n",
      " 9   speechiness       40000 non-null  float64\n",
      " 10  tempo             40000 non-null  float64\n",
      " 11  time_signature    40000 non-null  int64  \n",
      " 12  audio_valence     40000 non-null  float64\n",
      " 13  song_popularity   40000 non-null  int64  \n",
      "dtypes: float64(11), int64(3)\n",
      "memory usage: 4.6 MB\n"
     ]
    }
   ],
   "source": [
    "train.info()"
   ]
  },
  {
   "cell_type": "markdown",
   "metadata": {
    "pycharm": {
     "name": "#%% md\n"
    }
   },
   "source": [
    "We find:\n",
    "- With 15 columns and 40k rows, this is relatively small dataset. The dataset is small enough to explore in its\n",
    "entirety, without having to select subsets for reasons of speed.\n",
    "- There is an `id` column which appears to be sequentially numbered rows. This can be directly used as index columns\n",
    "for the dataframe.\n",
    "- There are no string columns in the dataset (or otherwise complex columns). All of the features can be expressed\n",
    "numericqally. Our target `song_popularity` appears to be binary; probably `audio_mode` as well. The features `key`\n",
    "and `time_signatures` look like categorical or ordinal variables.\n",
    "- We can immediately see some missing values in the data. This is something we need to keep in mind in future\n",
    "exploratory and modelling steps.\n",
    "\n",
    "Let's look at a larger subset of data in the tabular format"
   ]
  },
  {
   "cell_type": "code",
   "execution_count": 8,
   "metadata": {
    "pycharm": {
     "name": "#%%\n"
    },
    "scrolled": true
   },
   "outputs": [
    {
     "data": {
      "text/plain": "       song_duration_ms  acousticness  danceability    energy  \\\nid                                                              \n28983               NaN      0.023593      0.800073  0.767618   \n9548           204875.0      0.023600      0.362087  0.502013   \n25493          250127.0      0.065226      0.332186  0.733157   \n20480               NaN           NaN      0.479867  0.657406   \n25273          266133.0      0.008426      0.567235       NaN   \n36948          256275.0      0.044745      0.635059  0.663622   \n27232          112799.0      0.917544      0.239584  0.158236   \n28101          173910.0      0.565735      0.537464  0.512794   \n29583               NaN      0.944546           NaN  0.396532   \n25657               NaN      0.178766      0.499098  0.536247   \n29721          278297.0      0.192368      0.573519  0.661308   \n37757          170276.0      0.223815      0.691706  0.719933   \n19362          171312.0      0.009643      0.444027  0.590845   \n12291          198682.0      0.050924      0.443953  0.389112   \n30270          155838.0      0.054916      0.591526       NaN   \n19012          223404.0      0.150125           NaN  0.916464   \n19382               NaN      0.953603      0.266083  0.457599   \n15137          313568.0      0.566281      0.439606  0.747675   \n3453           188146.0      0.008120      0.203008  0.870743   \n32944          142579.0      0.111505      0.710236  0.811178   \n3551                NaN      0.007149      0.408401       NaN   \n4572                NaN      0.026646      0.602149       NaN   \n8923           233015.0      0.497901      0.707352  0.428558   \n35387          264527.0      0.235265      0.746752  0.757361   \n26247          284444.0      0.289078      0.300998  0.698586   \n38342          268810.0      0.928691      0.697787  0.153597   \n32081          271638.0      0.018523      0.662429  0.905227   \n4277           127832.0     -0.000088           NaN       NaN   \n37644          152167.0      0.297306      0.541653  0.841164   \n34089          186829.0      0.120373      0.679857  0.949576   \n18768          163742.0      0.106132      0.811302  0.657343   \n10607          183155.0      0.167312      0.646393  0.739582   \n36780          202870.0      0.273089      0.756263  0.933951   \n25472          212864.0      0.452423      0.809809       NaN   \n88             198439.0      0.203539      0.817036  0.690570   \n16144          257922.0      0.217290      0.499235  0.520111   \n4631           168582.0      0.253665      0.740620  0.935586   \n28928          184050.0      0.366677           NaN       NaN   \n8894           194685.0      0.053896      0.800932  0.793622   \n21274          181030.0      0.575470      0.828556  0.627095   \n8464           320889.0      0.462220      0.493975  0.655176   \n2639           165324.0      0.065656      0.698382  0.922482   \n21901          109231.0      0.976501      0.360461  0.417044   \n2306           208263.0      0.117572      0.682574  0.735266   \n22973          205749.0      0.283946      0.672252  0.961472   \n38319          200941.0           NaN      0.437353  0.891098   \n4788           220865.0      0.310343      0.577349  0.926275   \n15421          171487.0      0.033256      0.248856  0.973888   \n13090          193098.0      0.146745      0.693558  0.547752   \n2489           169284.0      0.247609      0.408178  0.986849   \n\n       instrumentalness   key  liveness   loudness  audio_mode  speechiness  \\\nid                                                                            \n28983          0.001328  11.0  0.139236  -5.565384           0     0.171397   \n9548           0.001538   7.0  0.115882  -4.619155           0     0.107220   \n25493          0.002163   3.0  0.188708 -10.246128           0     0.082915   \n20480         -0.000430   6.0  0.078104  -3.501137           0     0.052342   \n25273         -0.000200   5.0  0.104818  -6.140414           1     0.252710   \n36948          0.001854   9.0  0.098191  -2.636522           0     0.193922   \n27232          0.004231  10.0  0.183332 -19.045237           0     0.072375   \n28101          0.001328   6.0  0.109059        NaN           0     0.046291   \n29583          0.003519   2.0  0.171368 -12.986482           1     0.065570   \n25657          0.115561   1.0  0.073414 -12.669024           0     0.226400   \n29721          0.000089   7.0  0.432879  -5.076902           0     0.039852   \n37757          0.000996   0.0  0.113873  -9.916044           0     0.058539   \n19362          0.001482   9.0  0.136226  -7.135868           0     0.140247   \n12291          0.000018  10.0  0.112993  -9.769955           1     0.073593   \n30270          0.138028   6.0  0.165409  -5.642457           0     0.163861   \n19012          0.000588   1.0       NaN  -4.499460           0     0.278031   \n19382               NaN   2.0  0.135159 -15.517894           0     0.059995   \n15137         -0.000085  10.0  0.122468  -8.299518           0     0.252812   \n3453           0.001572   2.0  0.206202        NaN           1     0.154287   \n32944          0.002641   NaN  0.140156  -5.225993           0     0.028151   \n3551          -0.000060   6.0  0.103628  -3.009954           0     0.207543   \n4572                NaN   5.0  0.129274  -2.505873           0     0.042685   \n8923                NaN   0.0  0.131203  -6.928140           0     0.070493   \n35387               NaN   5.0  0.144409  -3.576847           0     0.052621   \n26247          0.001830  10.0  0.121795  -5.940744           0     0.404966   \n38342          0.002194   0.0  0.106637 -11.648713           1     0.038815   \n32081               NaN   6.0  0.073742  -4.531716           0     0.059658   \n4277                NaN   NaN  0.678869  -4.124660           1     0.257104   \n37644          0.001302   5.0  0.132174  -5.042664           0     0.029299   \n34089         -0.000765   6.0  0.314610  -7.553291           1     0.285245   \n18768          0.002944   4.0       NaN  -6.488788           1     0.046647   \n10607          0.000659   7.0  0.051432  -9.606139           1     0.054818   \n36780          0.002468   6.0  0.916084        NaN           0     0.052580   \n25472         -0.002278   NaN  0.606567  -3.673511           0     0.316302   \n88             0.000050   8.0  0.238930  -7.476685           0     0.182900   \n16144          0.000895   0.0  0.121551  -9.176441           0     0.039657   \n4631           0.001668   1.0  0.105507  -6.432720           0     0.041725   \n28928          0.001388  10.0  0.074479  -6.870781           0     0.267340   \n8894           0.000773   0.0  0.189683  -7.533541           1     0.047590   \n21274          0.003143   0.0  0.141875  -7.814711           0     0.232158   \n8464           0.001056   8.0  0.121545  -3.219978           0     0.252634   \n2639           0.002314  10.0  0.629368  -4.280370           1     0.221803   \n21901          0.001082   NaN  0.179619 -12.713395           0     0.055007   \n2306           0.002605   0.0  0.102518  -5.448814           0     0.232425   \n22973          0.000142   9.0  0.700717        NaN           1     0.156455   \n38319          0.001103   6.0  0.610563  -2.271150           0     0.218861   \n4788           0.041792   NaN  0.097526  -5.957239           0     0.033684   \n15421          0.001116   6.0  0.768722  -2.059654           0     0.324620   \n13090          0.000830   8.0  0.106498  -7.854523           0     0.062854   \n2489           0.000821   6.0  0.332064  -2.378672           0     0.131541   \n\n            tempo  time_signature  audio_valence  song_popularity  \nid                                                                 \n28983  119.834165               4       0.938746                0  \n9548   130.903058               4       0.520312                1  \n25493   99.230396               4       0.707097                0  \n20480  123.239636               4       0.632949                0  \n25273  150.768351               3       0.422224                0  \n36948  128.857669               3       0.447307                0  \n27232   92.645580               3       0.374094                1  \n28101  126.304820               3       0.470938                0  \n29583   86.943964               2       0.330708                0  \n25657   92.814619               3       0.687030                0  \n29721  129.099515               3       0.297867                1  \n37757  135.118941               3       0.639427                0  \n19362  156.811037               3       0.316475                1  \n12291   99.679792               3       0.338514                1  \n30270  103.570699               3       0.474385                1  \n19012  105.672788               3       0.912877                0  \n19382   78.809814               3       0.389713                1  \n15137  125.242886               3       0.536936                0  \n3453   126.462962               4       0.419709                1  \n32944  109.631610               3       0.694807                0  \n3551   202.121047               3       0.499456                0  \n4572   116.210543               4       0.436703                1  \n8923   131.696489               4       0.518067                1  \n35387  103.984087               3       0.383716                0  \n26247   99.486394               4       0.767836                0  \n38342   84.561735               3       0.077523                1  \n32081  125.849445               4       0.687957                0  \n4277   163.779733               4       0.901778                0  \n37644  122.559416               4       0.811120                1  \n34089  103.095730               4       0.735378                0  \n18768  135.773275               3       0.721997                0  \n10607  131.508884               3       0.858111                1  \n36780  142.910691               3       0.924787                1  \n25472  100.821960               4       0.390363                0  \n88      82.052183               3       0.961586                0  \n16144  125.823265               3       0.246664                0  \n4631   115.893360               4       0.992121                0  \n28928   91.169115               3       0.545370                0  \n8894    75.877070               4       0.943824                0  \n21274   94.886116               4       0.922893                0  \n8464   121.840813               3       0.683506                1  \n2639   107.396721               3       0.720010                1  \n21901   92.998397               3       0.514651                0  \n2306   109.559838               4       0.579471                0  \n22973  119.910532               3       0.566517                1  \n38319  141.137543               4       0.501745                1  \n4788   147.994319               4       0.858004                0  \n15421  177.920722               4       0.595962                1  \n13090   78.228464               3       0.638027                1  \n2489   173.114938               3       0.260206                0  ",
      "text/html": "<div>\n<style scoped>\n    .dataframe tbody tr th:only-of-type {\n        vertical-align: middle;\n    }\n\n    .dataframe tbody tr th {\n        vertical-align: top;\n    }\n\n    .dataframe thead th {\n        text-align: right;\n    }\n</style>\n<table border=\"1\" class=\"dataframe\">\n  <thead>\n    <tr style=\"text-align: right;\">\n      <th></th>\n      <th>song_duration_ms</th>\n      <th>acousticness</th>\n      <th>danceability</th>\n      <th>energy</th>\n      <th>instrumentalness</th>\n      <th>key</th>\n      <th>liveness</th>\n      <th>loudness</th>\n      <th>audio_mode</th>\n      <th>speechiness</th>\n      <th>tempo</th>\n      <th>time_signature</th>\n      <th>audio_valence</th>\n      <th>song_popularity</th>\n    </tr>\n    <tr>\n      <th>id</th>\n      <th></th>\n      <th></th>\n      <th></th>\n      <th></th>\n      <th></th>\n      <th></th>\n      <th></th>\n      <th></th>\n      <th></th>\n      <th></th>\n      <th></th>\n      <th></th>\n      <th></th>\n      <th></th>\n    </tr>\n  </thead>\n  <tbody>\n    <tr>\n      <th>28983</th>\n      <td>NaN</td>\n      <td>0.023593</td>\n      <td>0.800073</td>\n      <td>0.767618</td>\n      <td>0.001328</td>\n      <td>11.0</td>\n      <td>0.139236</td>\n      <td>-5.565384</td>\n      <td>0</td>\n      <td>0.171397</td>\n      <td>119.834165</td>\n      <td>4</td>\n      <td>0.938746</td>\n      <td>0</td>\n    </tr>\n    <tr>\n      <th>9548</th>\n      <td>204875.0</td>\n      <td>0.023600</td>\n      <td>0.362087</td>\n      <td>0.502013</td>\n      <td>0.001538</td>\n      <td>7.0</td>\n      <td>0.115882</td>\n      <td>-4.619155</td>\n      <td>0</td>\n      <td>0.107220</td>\n      <td>130.903058</td>\n      <td>4</td>\n      <td>0.520312</td>\n      <td>1</td>\n    </tr>\n    <tr>\n      <th>25493</th>\n      <td>250127.0</td>\n      <td>0.065226</td>\n      <td>0.332186</td>\n      <td>0.733157</td>\n      <td>0.002163</td>\n      <td>3.0</td>\n      <td>0.188708</td>\n      <td>-10.246128</td>\n      <td>0</td>\n      <td>0.082915</td>\n      <td>99.230396</td>\n      <td>4</td>\n      <td>0.707097</td>\n      <td>0</td>\n    </tr>\n    <tr>\n      <th>20480</th>\n      <td>NaN</td>\n      <td>NaN</td>\n      <td>0.479867</td>\n      <td>0.657406</td>\n      <td>-0.000430</td>\n      <td>6.0</td>\n      <td>0.078104</td>\n      <td>-3.501137</td>\n      <td>0</td>\n      <td>0.052342</td>\n      <td>123.239636</td>\n      <td>4</td>\n      <td>0.632949</td>\n      <td>0</td>\n    </tr>\n    <tr>\n      <th>25273</th>\n      <td>266133.0</td>\n      <td>0.008426</td>\n      <td>0.567235</td>\n      <td>NaN</td>\n      <td>-0.000200</td>\n      <td>5.0</td>\n      <td>0.104818</td>\n      <td>-6.140414</td>\n      <td>1</td>\n      <td>0.252710</td>\n      <td>150.768351</td>\n      <td>3</td>\n      <td>0.422224</td>\n      <td>0</td>\n    </tr>\n    <tr>\n      <th>36948</th>\n      <td>256275.0</td>\n      <td>0.044745</td>\n      <td>0.635059</td>\n      <td>0.663622</td>\n      <td>0.001854</td>\n      <td>9.0</td>\n      <td>0.098191</td>\n      <td>-2.636522</td>\n      <td>0</td>\n      <td>0.193922</td>\n      <td>128.857669</td>\n      <td>3</td>\n      <td>0.447307</td>\n      <td>0</td>\n    </tr>\n    <tr>\n      <th>27232</th>\n      <td>112799.0</td>\n      <td>0.917544</td>\n      <td>0.239584</td>\n      <td>0.158236</td>\n      <td>0.004231</td>\n      <td>10.0</td>\n      <td>0.183332</td>\n      <td>-19.045237</td>\n      <td>0</td>\n      <td>0.072375</td>\n      <td>92.645580</td>\n      <td>3</td>\n      <td>0.374094</td>\n      <td>1</td>\n    </tr>\n    <tr>\n      <th>28101</th>\n      <td>173910.0</td>\n      <td>0.565735</td>\n      <td>0.537464</td>\n      <td>0.512794</td>\n      <td>0.001328</td>\n      <td>6.0</td>\n      <td>0.109059</td>\n      <td>NaN</td>\n      <td>0</td>\n      <td>0.046291</td>\n      <td>126.304820</td>\n      <td>3</td>\n      <td>0.470938</td>\n      <td>0</td>\n    </tr>\n    <tr>\n      <th>29583</th>\n      <td>NaN</td>\n      <td>0.944546</td>\n      <td>NaN</td>\n      <td>0.396532</td>\n      <td>0.003519</td>\n      <td>2.0</td>\n      <td>0.171368</td>\n      <td>-12.986482</td>\n      <td>1</td>\n      <td>0.065570</td>\n      <td>86.943964</td>\n      <td>2</td>\n      <td>0.330708</td>\n      <td>0</td>\n    </tr>\n    <tr>\n      <th>25657</th>\n      <td>NaN</td>\n      <td>0.178766</td>\n      <td>0.499098</td>\n      <td>0.536247</td>\n      <td>0.115561</td>\n      <td>1.0</td>\n      <td>0.073414</td>\n      <td>-12.669024</td>\n      <td>0</td>\n      <td>0.226400</td>\n      <td>92.814619</td>\n      <td>3</td>\n      <td>0.687030</td>\n      <td>0</td>\n    </tr>\n    <tr>\n      <th>29721</th>\n      <td>278297.0</td>\n      <td>0.192368</td>\n      <td>0.573519</td>\n      <td>0.661308</td>\n      <td>0.000089</td>\n      <td>7.0</td>\n      <td>0.432879</td>\n      <td>-5.076902</td>\n      <td>0</td>\n      <td>0.039852</td>\n      <td>129.099515</td>\n      <td>3</td>\n      <td>0.297867</td>\n      <td>1</td>\n    </tr>\n    <tr>\n      <th>37757</th>\n      <td>170276.0</td>\n      <td>0.223815</td>\n      <td>0.691706</td>\n      <td>0.719933</td>\n      <td>0.000996</td>\n      <td>0.0</td>\n      <td>0.113873</td>\n      <td>-9.916044</td>\n      <td>0</td>\n      <td>0.058539</td>\n      <td>135.118941</td>\n      <td>3</td>\n      <td>0.639427</td>\n      <td>0</td>\n    </tr>\n    <tr>\n      <th>19362</th>\n      <td>171312.0</td>\n      <td>0.009643</td>\n      <td>0.444027</td>\n      <td>0.590845</td>\n      <td>0.001482</td>\n      <td>9.0</td>\n      <td>0.136226</td>\n      <td>-7.135868</td>\n      <td>0</td>\n      <td>0.140247</td>\n      <td>156.811037</td>\n      <td>3</td>\n      <td>0.316475</td>\n      <td>1</td>\n    </tr>\n    <tr>\n      <th>12291</th>\n      <td>198682.0</td>\n      <td>0.050924</td>\n      <td>0.443953</td>\n      <td>0.389112</td>\n      <td>0.000018</td>\n      <td>10.0</td>\n      <td>0.112993</td>\n      <td>-9.769955</td>\n      <td>1</td>\n      <td>0.073593</td>\n      <td>99.679792</td>\n      <td>3</td>\n      <td>0.338514</td>\n      <td>1</td>\n    </tr>\n    <tr>\n      <th>30270</th>\n      <td>155838.0</td>\n      <td>0.054916</td>\n      <td>0.591526</td>\n      <td>NaN</td>\n      <td>0.138028</td>\n      <td>6.0</td>\n      <td>0.165409</td>\n      <td>-5.642457</td>\n      <td>0</td>\n      <td>0.163861</td>\n      <td>103.570699</td>\n      <td>3</td>\n      <td>0.474385</td>\n      <td>1</td>\n    </tr>\n    <tr>\n      <th>19012</th>\n      <td>223404.0</td>\n      <td>0.150125</td>\n      <td>NaN</td>\n      <td>0.916464</td>\n      <td>0.000588</td>\n      <td>1.0</td>\n      <td>NaN</td>\n      <td>-4.499460</td>\n      <td>0</td>\n      <td>0.278031</td>\n      <td>105.672788</td>\n      <td>3</td>\n      <td>0.912877</td>\n      <td>0</td>\n    </tr>\n    <tr>\n      <th>19382</th>\n      <td>NaN</td>\n      <td>0.953603</td>\n      <td>0.266083</td>\n      <td>0.457599</td>\n      <td>NaN</td>\n      <td>2.0</td>\n      <td>0.135159</td>\n      <td>-15.517894</td>\n      <td>0</td>\n      <td>0.059995</td>\n      <td>78.809814</td>\n      <td>3</td>\n      <td>0.389713</td>\n      <td>1</td>\n    </tr>\n    <tr>\n      <th>15137</th>\n      <td>313568.0</td>\n      <td>0.566281</td>\n      <td>0.439606</td>\n      <td>0.747675</td>\n      <td>-0.000085</td>\n      <td>10.0</td>\n      <td>0.122468</td>\n      <td>-8.299518</td>\n      <td>0</td>\n      <td>0.252812</td>\n      <td>125.242886</td>\n      <td>3</td>\n      <td>0.536936</td>\n      <td>0</td>\n    </tr>\n    <tr>\n      <th>3453</th>\n      <td>188146.0</td>\n      <td>0.008120</td>\n      <td>0.203008</td>\n      <td>0.870743</td>\n      <td>0.001572</td>\n      <td>2.0</td>\n      <td>0.206202</td>\n      <td>NaN</td>\n      <td>1</td>\n      <td>0.154287</td>\n      <td>126.462962</td>\n      <td>4</td>\n      <td>0.419709</td>\n      <td>1</td>\n    </tr>\n    <tr>\n      <th>32944</th>\n      <td>142579.0</td>\n      <td>0.111505</td>\n      <td>0.710236</td>\n      <td>0.811178</td>\n      <td>0.002641</td>\n      <td>NaN</td>\n      <td>0.140156</td>\n      <td>-5.225993</td>\n      <td>0</td>\n      <td>0.028151</td>\n      <td>109.631610</td>\n      <td>3</td>\n      <td>0.694807</td>\n      <td>0</td>\n    </tr>\n    <tr>\n      <th>3551</th>\n      <td>NaN</td>\n      <td>0.007149</td>\n      <td>0.408401</td>\n      <td>NaN</td>\n      <td>-0.000060</td>\n      <td>6.0</td>\n      <td>0.103628</td>\n      <td>-3.009954</td>\n      <td>0</td>\n      <td>0.207543</td>\n      <td>202.121047</td>\n      <td>3</td>\n      <td>0.499456</td>\n      <td>0</td>\n    </tr>\n    <tr>\n      <th>4572</th>\n      <td>NaN</td>\n      <td>0.026646</td>\n      <td>0.602149</td>\n      <td>NaN</td>\n      <td>NaN</td>\n      <td>5.0</td>\n      <td>0.129274</td>\n      <td>-2.505873</td>\n      <td>0</td>\n      <td>0.042685</td>\n      <td>116.210543</td>\n      <td>4</td>\n      <td>0.436703</td>\n      <td>1</td>\n    </tr>\n    <tr>\n      <th>8923</th>\n      <td>233015.0</td>\n      <td>0.497901</td>\n      <td>0.707352</td>\n      <td>0.428558</td>\n      <td>NaN</td>\n      <td>0.0</td>\n      <td>0.131203</td>\n      <td>-6.928140</td>\n      <td>0</td>\n      <td>0.070493</td>\n      <td>131.696489</td>\n      <td>4</td>\n      <td>0.518067</td>\n      <td>1</td>\n    </tr>\n    <tr>\n      <th>35387</th>\n      <td>264527.0</td>\n      <td>0.235265</td>\n      <td>0.746752</td>\n      <td>0.757361</td>\n      <td>NaN</td>\n      <td>5.0</td>\n      <td>0.144409</td>\n      <td>-3.576847</td>\n      <td>0</td>\n      <td>0.052621</td>\n      <td>103.984087</td>\n      <td>3</td>\n      <td>0.383716</td>\n      <td>0</td>\n    </tr>\n    <tr>\n      <th>26247</th>\n      <td>284444.0</td>\n      <td>0.289078</td>\n      <td>0.300998</td>\n      <td>0.698586</td>\n      <td>0.001830</td>\n      <td>10.0</td>\n      <td>0.121795</td>\n      <td>-5.940744</td>\n      <td>0</td>\n      <td>0.404966</td>\n      <td>99.486394</td>\n      <td>4</td>\n      <td>0.767836</td>\n      <td>0</td>\n    </tr>\n    <tr>\n      <th>38342</th>\n      <td>268810.0</td>\n      <td>0.928691</td>\n      <td>0.697787</td>\n      <td>0.153597</td>\n      <td>0.002194</td>\n      <td>0.0</td>\n      <td>0.106637</td>\n      <td>-11.648713</td>\n      <td>1</td>\n      <td>0.038815</td>\n      <td>84.561735</td>\n      <td>3</td>\n      <td>0.077523</td>\n      <td>1</td>\n    </tr>\n    <tr>\n      <th>32081</th>\n      <td>271638.0</td>\n      <td>0.018523</td>\n      <td>0.662429</td>\n      <td>0.905227</td>\n      <td>NaN</td>\n      <td>6.0</td>\n      <td>0.073742</td>\n      <td>-4.531716</td>\n      <td>0</td>\n      <td>0.059658</td>\n      <td>125.849445</td>\n      <td>4</td>\n      <td>0.687957</td>\n      <td>0</td>\n    </tr>\n    <tr>\n      <th>4277</th>\n      <td>127832.0</td>\n      <td>-0.000088</td>\n      <td>NaN</td>\n      <td>NaN</td>\n      <td>NaN</td>\n      <td>NaN</td>\n      <td>0.678869</td>\n      <td>-4.124660</td>\n      <td>1</td>\n      <td>0.257104</td>\n      <td>163.779733</td>\n      <td>4</td>\n      <td>0.901778</td>\n      <td>0</td>\n    </tr>\n    <tr>\n      <th>37644</th>\n      <td>152167.0</td>\n      <td>0.297306</td>\n      <td>0.541653</td>\n      <td>0.841164</td>\n      <td>0.001302</td>\n      <td>5.0</td>\n      <td>0.132174</td>\n      <td>-5.042664</td>\n      <td>0</td>\n      <td>0.029299</td>\n      <td>122.559416</td>\n      <td>4</td>\n      <td>0.811120</td>\n      <td>1</td>\n    </tr>\n    <tr>\n      <th>34089</th>\n      <td>186829.0</td>\n      <td>0.120373</td>\n      <td>0.679857</td>\n      <td>0.949576</td>\n      <td>-0.000765</td>\n      <td>6.0</td>\n      <td>0.314610</td>\n      <td>-7.553291</td>\n      <td>1</td>\n      <td>0.285245</td>\n      <td>103.095730</td>\n      <td>4</td>\n      <td>0.735378</td>\n      <td>0</td>\n    </tr>\n    <tr>\n      <th>18768</th>\n      <td>163742.0</td>\n      <td>0.106132</td>\n      <td>0.811302</td>\n      <td>0.657343</td>\n      <td>0.002944</td>\n      <td>4.0</td>\n      <td>NaN</td>\n      <td>-6.488788</td>\n      <td>1</td>\n      <td>0.046647</td>\n      <td>135.773275</td>\n      <td>3</td>\n      <td>0.721997</td>\n      <td>0</td>\n    </tr>\n    <tr>\n      <th>10607</th>\n      <td>183155.0</td>\n      <td>0.167312</td>\n      <td>0.646393</td>\n      <td>0.739582</td>\n      <td>0.000659</td>\n      <td>7.0</td>\n      <td>0.051432</td>\n      <td>-9.606139</td>\n      <td>1</td>\n      <td>0.054818</td>\n      <td>131.508884</td>\n      <td>3</td>\n      <td>0.858111</td>\n      <td>1</td>\n    </tr>\n    <tr>\n      <th>36780</th>\n      <td>202870.0</td>\n      <td>0.273089</td>\n      <td>0.756263</td>\n      <td>0.933951</td>\n      <td>0.002468</td>\n      <td>6.0</td>\n      <td>0.916084</td>\n      <td>NaN</td>\n      <td>0</td>\n      <td>0.052580</td>\n      <td>142.910691</td>\n      <td>3</td>\n      <td>0.924787</td>\n      <td>1</td>\n    </tr>\n    <tr>\n      <th>25472</th>\n      <td>212864.0</td>\n      <td>0.452423</td>\n      <td>0.809809</td>\n      <td>NaN</td>\n      <td>-0.002278</td>\n      <td>NaN</td>\n      <td>0.606567</td>\n      <td>-3.673511</td>\n      <td>0</td>\n      <td>0.316302</td>\n      <td>100.821960</td>\n      <td>4</td>\n      <td>0.390363</td>\n      <td>0</td>\n    </tr>\n    <tr>\n      <th>88</th>\n      <td>198439.0</td>\n      <td>0.203539</td>\n      <td>0.817036</td>\n      <td>0.690570</td>\n      <td>0.000050</td>\n      <td>8.0</td>\n      <td>0.238930</td>\n      <td>-7.476685</td>\n      <td>0</td>\n      <td>0.182900</td>\n      <td>82.052183</td>\n      <td>3</td>\n      <td>0.961586</td>\n      <td>0</td>\n    </tr>\n    <tr>\n      <th>16144</th>\n      <td>257922.0</td>\n      <td>0.217290</td>\n      <td>0.499235</td>\n      <td>0.520111</td>\n      <td>0.000895</td>\n      <td>0.0</td>\n      <td>0.121551</td>\n      <td>-9.176441</td>\n      <td>0</td>\n      <td>0.039657</td>\n      <td>125.823265</td>\n      <td>3</td>\n      <td>0.246664</td>\n      <td>0</td>\n    </tr>\n    <tr>\n      <th>4631</th>\n      <td>168582.0</td>\n      <td>0.253665</td>\n      <td>0.740620</td>\n      <td>0.935586</td>\n      <td>0.001668</td>\n      <td>1.0</td>\n      <td>0.105507</td>\n      <td>-6.432720</td>\n      <td>0</td>\n      <td>0.041725</td>\n      <td>115.893360</td>\n      <td>4</td>\n      <td>0.992121</td>\n      <td>0</td>\n    </tr>\n    <tr>\n      <th>28928</th>\n      <td>184050.0</td>\n      <td>0.366677</td>\n      <td>NaN</td>\n      <td>NaN</td>\n      <td>0.001388</td>\n      <td>10.0</td>\n      <td>0.074479</td>\n      <td>-6.870781</td>\n      <td>0</td>\n      <td>0.267340</td>\n      <td>91.169115</td>\n      <td>3</td>\n      <td>0.545370</td>\n      <td>0</td>\n    </tr>\n    <tr>\n      <th>8894</th>\n      <td>194685.0</td>\n      <td>0.053896</td>\n      <td>0.800932</td>\n      <td>0.793622</td>\n      <td>0.000773</td>\n      <td>0.0</td>\n      <td>0.189683</td>\n      <td>-7.533541</td>\n      <td>1</td>\n      <td>0.047590</td>\n      <td>75.877070</td>\n      <td>4</td>\n      <td>0.943824</td>\n      <td>0</td>\n    </tr>\n    <tr>\n      <th>21274</th>\n      <td>181030.0</td>\n      <td>0.575470</td>\n      <td>0.828556</td>\n      <td>0.627095</td>\n      <td>0.003143</td>\n      <td>0.0</td>\n      <td>0.141875</td>\n      <td>-7.814711</td>\n      <td>0</td>\n      <td>0.232158</td>\n      <td>94.886116</td>\n      <td>4</td>\n      <td>0.922893</td>\n      <td>0</td>\n    </tr>\n    <tr>\n      <th>8464</th>\n      <td>320889.0</td>\n      <td>0.462220</td>\n      <td>0.493975</td>\n      <td>0.655176</td>\n      <td>0.001056</td>\n      <td>8.0</td>\n      <td>0.121545</td>\n      <td>-3.219978</td>\n      <td>0</td>\n      <td>0.252634</td>\n      <td>121.840813</td>\n      <td>3</td>\n      <td>0.683506</td>\n      <td>1</td>\n    </tr>\n    <tr>\n      <th>2639</th>\n      <td>165324.0</td>\n      <td>0.065656</td>\n      <td>0.698382</td>\n      <td>0.922482</td>\n      <td>0.002314</td>\n      <td>10.0</td>\n      <td>0.629368</td>\n      <td>-4.280370</td>\n      <td>1</td>\n      <td>0.221803</td>\n      <td>107.396721</td>\n      <td>3</td>\n      <td>0.720010</td>\n      <td>1</td>\n    </tr>\n    <tr>\n      <th>21901</th>\n      <td>109231.0</td>\n      <td>0.976501</td>\n      <td>0.360461</td>\n      <td>0.417044</td>\n      <td>0.001082</td>\n      <td>NaN</td>\n      <td>0.179619</td>\n      <td>-12.713395</td>\n      <td>0</td>\n      <td>0.055007</td>\n      <td>92.998397</td>\n      <td>3</td>\n      <td>0.514651</td>\n      <td>0</td>\n    </tr>\n    <tr>\n      <th>2306</th>\n      <td>208263.0</td>\n      <td>0.117572</td>\n      <td>0.682574</td>\n      <td>0.735266</td>\n      <td>0.002605</td>\n      <td>0.0</td>\n      <td>0.102518</td>\n      <td>-5.448814</td>\n      <td>0</td>\n      <td>0.232425</td>\n      <td>109.559838</td>\n      <td>4</td>\n      <td>0.579471</td>\n      <td>0</td>\n    </tr>\n    <tr>\n      <th>22973</th>\n      <td>205749.0</td>\n      <td>0.283946</td>\n      <td>0.672252</td>\n      <td>0.961472</td>\n      <td>0.000142</td>\n      <td>9.0</td>\n      <td>0.700717</td>\n      <td>NaN</td>\n      <td>1</td>\n      <td>0.156455</td>\n      <td>119.910532</td>\n      <td>3</td>\n      <td>0.566517</td>\n      <td>1</td>\n    </tr>\n    <tr>\n      <th>38319</th>\n      <td>200941.0</td>\n      <td>NaN</td>\n      <td>0.437353</td>\n      <td>0.891098</td>\n      <td>0.001103</td>\n      <td>6.0</td>\n      <td>0.610563</td>\n      <td>-2.271150</td>\n      <td>0</td>\n      <td>0.218861</td>\n      <td>141.137543</td>\n      <td>4</td>\n      <td>0.501745</td>\n      <td>1</td>\n    </tr>\n    <tr>\n      <th>4788</th>\n      <td>220865.0</td>\n      <td>0.310343</td>\n      <td>0.577349</td>\n      <td>0.926275</td>\n      <td>0.041792</td>\n      <td>NaN</td>\n      <td>0.097526</td>\n      <td>-5.957239</td>\n      <td>0</td>\n      <td>0.033684</td>\n      <td>147.994319</td>\n      <td>4</td>\n      <td>0.858004</td>\n      <td>0</td>\n    </tr>\n    <tr>\n      <th>15421</th>\n      <td>171487.0</td>\n      <td>0.033256</td>\n      <td>0.248856</td>\n      <td>0.973888</td>\n      <td>0.001116</td>\n      <td>6.0</td>\n      <td>0.768722</td>\n      <td>-2.059654</td>\n      <td>0</td>\n      <td>0.324620</td>\n      <td>177.920722</td>\n      <td>4</td>\n      <td>0.595962</td>\n      <td>1</td>\n    </tr>\n    <tr>\n      <th>13090</th>\n      <td>193098.0</td>\n      <td>0.146745</td>\n      <td>0.693558</td>\n      <td>0.547752</td>\n      <td>0.000830</td>\n      <td>8.0</td>\n      <td>0.106498</td>\n      <td>-7.854523</td>\n      <td>0</td>\n      <td>0.062854</td>\n      <td>78.228464</td>\n      <td>3</td>\n      <td>0.638027</td>\n      <td>1</td>\n    </tr>\n    <tr>\n      <th>2489</th>\n      <td>169284.0</td>\n      <td>0.247609</td>\n      <td>0.408178</td>\n      <td>0.986849</td>\n      <td>0.000821</td>\n      <td>6.0</td>\n      <td>0.332064</td>\n      <td>-2.378672</td>\n      <td>0</td>\n      <td>0.131541</td>\n      <td>173.114938</td>\n      <td>3</td>\n      <td>0.260206</td>\n      <td>0</td>\n    </tr>\n  </tbody>\n</table>\n</div>"
     },
     "execution_count": 8,
     "metadata": {},
     "output_type": "execute_result"
    }
   ],
   "source": [
    "train.sample(50)"
   ]
  },
  {
   "cell_type": "markdown",
   "metadata": {
    "pycharm": {
     "name": "#%% md\n"
    }
   },
   "source": [
    "We find:\n",
    "- Using `sample()`, we get random rows of data, which may be beneficial to avoid any kind of rows that might have\n",
    "been changed.\n",
    "- The 50 rows that `sample()` returned confirms most of our impressions.\n",
    "- There are plenty of missing values (encoded as `NA`) in several of the columns.\n",
    "- It is also apparent the different scales of the data. Some features have values around 0.5, while others fo down to\n",
    " 1e-6 or up to almost 200."
   ]
  },
  {
   "cell_type": "markdown",
   "metadata": {
    "pycharm": {
     "name": "#%% md\n"
    }
   },
   "source": [
    "### 3.2. Missing values"
   ]
  },
  {
   "cell_type": "markdown",
   "metadata": {
    "pycharm": {
     "name": "#%% md\n"
    }
   },
   "source": [
    "Let's take a closer look at the missing values."
   ]
  },
  {
   "cell_type": "code",
   "execution_count": 9,
   "metadata": {
    "pycharm": {
     "name": "#%%\n"
    }
   },
   "outputs": [
    {
     "name": "stdout",
     "output_type": "stream",
     "text": [
      "The training set has 32187 missing values, the test set has 7962.\n"
     ]
    }
   ],
   "source": [
    "print(\n",
    "    f\"The training set has {train.isnull().sum().sum()} missing values, the test set has {test.isnull().sum().sum()}.\")"
   ]
  },
  {
   "cell_type": "markdown",
   "metadata": {
    "pycharm": {
     "name": "#%% md\n"
    }
   },
   "source": [
    "We can also visualise the values to give us an overview of the entire dataset."
   ]
  },
  {
   "cell_type": "code",
   "execution_count": null,
   "metadata": {
    "pycharm": {
     "is_executing": true
    }
   },
   "outputs": [],
   "source": [
    "plt.figure(figsize=(18,16))\n",
    "sns.displot(\n",
    "    data=train.isna().melt(value_name=\"missing\"),\n",
    "    y=\"variable\",\n",
    "    hue=\"missing\",\n",
    "    multiple=\"fill\",\n",
    "    aspect=3,\n",
    "    palette='copper' \n",
    ")\n",
    "plt.title('Bar plot showing Non-Missing Values in Train data', weight = 'bold', size = 20, color = 'brown')\n",
    "plt.xlabel(\" \")\n",
    "plt.ylabel(\" \")\n",
    "plt.xticks(size = 12, weight = 'bold', color = 'maroon')\n",
    "plt.yticks(size = 12, weight = 'bold', color = 'maroon');"
   ]
  },
  {
   "cell_type": "code",
   "execution_count": null,
   "metadata": {
    "pycharm": {
     "name": "#%%\n"
    }
   },
   "outputs": [],
   "source": [
    "sns.heatmap(train.isna().transpose(), yticklabels=False, cbar=True, cmap='viridis')\n",
    "plt.show();"
   ]
  }
 ],
 "metadata": {
  "interpreter": {
   "hash": "e81750055869a9c528b912dda5e0a09deab09cbbe0089ea6eb33a589a5fa0ca0"
  },
  "kernelspec": {
   "display_name": "Python 3 (ipykernel)",
   "language": "python",
   "name": "python3"
  },
  "language_info": {
   "codemirror_mode": {
    "name": "ipython",
    "version": 3
   },
   "file_extension": ".py",
   "mimetype": "text/x-python",
   "name": "python",
   "nbconvert_exporter": "python",
   "pygments_lexer": "ipython3",
   "version": "3.8.12"
  }
 },
 "nbformat": 4,
 "nbformat_minor": 4
}